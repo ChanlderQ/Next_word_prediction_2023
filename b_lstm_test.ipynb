{
 "cells": [
  {
   "cell_type": "code",
   "execution_count": 1,
   "metadata": {},
   "outputs": [],
   "source": [
    "import pandas as pd\n",
    "import os\n",
    "import numpy as np\n",
    "\n",
    "import tensorflow as tf\n",
    "from tensorflow.keras.preprocessing.sequence import pad_sequences\n",
    "from tensorflow.keras.layers import Embedding, LSTM, Dense, Bidirectional\n",
    "from tensorflow.keras.preprocessing.text import Tokenizer\n",
    "from tensorflow.keras.models import Sequential\n",
    "from tensorflow.keras.optimizers import Adam"
   ]
  },
  {
   "cell_type": "code",
   "execution_count": 2,
   "metadata": {},
   "outputs": [
    {
     "name": "stdout",
     "output_type": "stream",
     "text": [
      "txt length: 2468\n"
     ]
    }
   ],
   "source": [
    "path = 'data/shakespeare/shakespeare.txt'\n",
    "org_data = open(path).read().lower()\n",
    "org_data = org_data.replace(u'\\xa0',u' ')\n",
    "org_data = org_data.replace('\\u200a',' ')\n",
    "org_data = org_data.replace('\\n',' ')\n",
    "org_data = org_data.split(\",\")\n",
    "text_data=org_data[300:int((len(org_data)/30))]\n",
    "print('txt length:', len(text_data))"
   ]
  },
  {
   "cell_type": "code",
   "execution_count": 3,
   "metadata": {},
   "outputs": [
    {
     "name": "stdout",
     "output_type": "stream",
     "text": [
      "Total number of words:  4175\n"
     ]
    }
   ],
   "source": [
    "tokenizer = Tokenizer(num_words=3,lower=True,\n",
    "                      char_level=False,oov_token='<>') # For those words which are not found in word_index\n",
    "tokenizer.fit_on_texts(text_data)\n",
    "total_words = len(tokenizer.word_index) + 1\n",
    "print(\"Total number of words: \", total_words)"
   ]
  },
  {
   "cell_type": "code",
   "execution_count": 4,
   "metadata": {},
   "outputs": [
    {
     "name": "stdout",
     "output_type": "stream",
     "text": [
      "Total input sequences:  22460\n"
     ]
    }
   ],
   "source": [
    "input_sequences = []\n",
    "for line in text_data:\n",
    "    token_list = tokenizer.texts_to_sequences([line])[0]\n",
    "    #print(token_list)\n",
    "    \n",
    "    for i in range(1, len(token_list)):\n",
    "        n_gram_sequence = token_list[:i+1]\n",
    "        input_sequences.append(n_gram_sequence)\n",
    "\n",
    "# print(input_sequences)\n",
    "print(\"Total input sequences: \", len(input_sequences))"
   ]
  },
  {
   "cell_type": "code",
   "execution_count": 5,
   "metadata": {},
   "outputs": [],
   "source": [
    "# pad sequences \n",
    "max_sequence_len = max([len(x) for x in input_sequences])\n",
    "input_sequences = np.array(pad_sequences(input_sequences, maxlen=max_sequence_len, padding='pre'))"
   ]
  },
  {
   "cell_type": "code",
   "execution_count": 6,
   "metadata": {},
   "outputs": [
    {
     "name": "stdout",
     "output_type": "stream",
     "text": [
      "Epoch 1/50\n"
     ]
    },
    {
     "name": "stderr",
     "output_type": "stream",
     "text": [
      "C:\\Users\\sheng\\AppData\\Roaming\\Python\\Python39\\site-packages\\keras\\optimizers\\optimizer_v2\\adam.py:114: UserWarning: The `lr` argument is deprecated, use `learning_rate` instead.\n",
      "  super().__init__(name, **kwargs)\n"
     ]
    },
    {
     "name": "stdout",
     "output_type": "stream",
     "text": [
      "702/702 [==============================] - 179s 252ms/step - loss: 0.1233 - accuracy: 0.9847\n",
      "Epoch 2/50\n",
      "702/702 [==============================] - 138s 197ms/step - loss: 0.0916 - accuracy: 0.9861\n",
      "Epoch 3/50\n",
      "702/702 [==============================] - 127s 181ms/step - loss: 0.0894 - accuracy: 0.9861\n",
      "Epoch 4/50\n",
      "702/702 [==============================] - 129s 184ms/step - loss: 0.0790 - accuracy: 0.9861\n",
      "Epoch 5/50\n",
      "702/702 [==============================] - 124s 177ms/step - loss: 0.0779 - accuracy: 0.9861\n",
      "Epoch 6/50\n",
      "702/702 [==============================] - 136s 194ms/step - loss: 0.0752 - accuracy: 0.9861\n",
      "Epoch 7/50\n",
      "702/702 [==============================] - 147s 209ms/step - loss: 0.0765 - accuracy: 0.9861\n",
      "Epoch 8/50\n",
      "702/702 [==============================] - 141s 200ms/step - loss: 0.0760 - accuracy: 0.9861\n",
      "Epoch 9/50\n",
      "702/702 [==============================] - 142s 203ms/step - loss: 0.0756 - accuracy: 0.9861\n",
      "Epoch 10/50\n",
      "702/702 [==============================] - 146s 208ms/step - loss: 0.0757 - accuracy: 0.9861\n",
      "Epoch 11/50\n",
      "702/702 [==============================] - 151s 215ms/step - loss: 0.0754 - accuracy: 0.9861\n",
      "Epoch 12/50\n",
      "702/702 [==============================] - 141s 200ms/step - loss: 0.0746 - accuracy: 0.9861\n",
      "Epoch 13/50\n",
      "702/702 [==============================] - 142s 202ms/step - loss: 0.0746 - accuracy: 0.9861\n",
      "Epoch 14/50\n",
      "702/702 [==============================] - 144s 206ms/step - loss: 0.0761 - accuracy: 0.9860\n",
      "Epoch 15/50\n",
      "702/702 [==============================] - 141s 202ms/step - loss: 0.0746 - accuracy: 0.9861\n",
      "Epoch 16/50\n",
      "299/702 [===========>..................] - ETA: 1:22 - loss: 0.0719 - accuracy: 0.9864"
     ]
    }
   ],
   "source": [
    "# create features and label\n",
    "xs, labels = input_sequences[:,:-1],input_sequences[:,-1]\n",
    "ys = tf.keras.utils.to_categorical(labels, num_classes=total_words)\n",
    "\n",
    "model = Sequential()\n",
    "model.add(Embedding(total_words, 100, input_length=max_sequence_len-1))\n",
    "model.add(Bidirectional(LSTM(150)))\n",
    "model.add(Dense(total_words, activation='softmax'))\n",
    "adam = Adam(lr=0.01)\n",
    "\n",
    "callback = tf.keras.callbacks.EarlyStopping(monitor='loss', patience=10)\n",
    "model.compile(loss='categorical_crossentropy', optimizer=adam, metrics=['accuracy'])\n",
    "history = model.fit(xs, ys, epochs=30, verbose=1,callbacks=[callback])"
   ]
  }
 ],
 "metadata": {
  "kernelspec": {
   "display_name": "base",
   "language": "python",
   "name": "python3"
  },
  "language_info": {
   "codemirror_mode": {
    "name": "ipython",
    "version": 3
   },
   "file_extension": ".py",
   "mimetype": "text/x-python",
   "name": "python",
   "nbconvert_exporter": "python",
   "pygments_lexer": "ipython3",
   "version": "3.9.12"
  },
  "orig_nbformat": 4,
  "vscode": {
   "interpreter": {
    "hash": "ad2bdc8ecc057115af97d19610ffacc2b4e99fae6737bb82f5d7fb13d2f2c186"
   }
  }
 },
 "nbformat": 4,
 "nbformat_minor": 2
}
